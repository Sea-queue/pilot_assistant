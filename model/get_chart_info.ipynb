{
 "cells": [
  {
   "cell_type": "markdown",
   "metadata": {},
   "source": []
  },
  {
   "cell_type": "code",
   "execution_count": 2,
   "metadata": {},
   "outputs": [],
   "source": [
    "import cv2\n",
    "import pytesseract\n",
    "import numpy as np\n",
    "import re\n",
    "import json"
   ]
  },
  {
   "cell_type": "code",
   "execution_count": 11,
   "metadata": {},
   "outputs": [
    {
     "name": "stdout",
     "output_type": "stream",
     "text": [
      "[INFO] Preprocessing Image...\n",
      "[INFO] Extracting Text...\n",
      "[INFO] Extracting Key Information...\n",
      "[INFO] Extraction Complete!\n",
      "{\n",
      "    \"Airport Code\": \"Unknown\",\n",
      "    \"Approach Type\": \"Unknown\",\n",
      "    \"Runway\": \"Unknown\",\n",
      "    \"ILS Frequency\": \"Unknown\",\n",
      "    \"Minimum Descent Altitude\": \"Unknown\"\n",
      "}\n"
     ]
    },
    {
     "data": {
      "text/plain": [
       "{'Airport Code': 'Unknown',\n",
       " 'Approach Type': 'Unknown',\n",
       " 'Runway': 'Unknown',\n",
       " 'ILS Frequency': 'Unknown',\n",
       " 'Minimum Descent Altitude': 'Unknown'}"
      ]
     },
     "execution_count": 11,
     "metadata": {},
     "output_type": "execute_result"
    }
   ],
   "source": [
    "def preprocess_image(image_path):\n",
    "    \"\"\"Load and preprocess the image for OCR.\"\"\"\n",
    "    img = cv2.imread(image_path, cv2.IMREAD_GRAYSCALE)  # Convert to grayscale\n",
    "    img = cv2.GaussianBlur(img, (3, 3), 0)  # Reduce noise\n",
    "    img = cv2.threshold(img, 150, 255, cv2.THRESH_BINARY + cv2.THRESH_OTSU)[1]  # Apply thresholding\n",
    "    return img\n",
    "\n",
    "def extract_text(image):\n",
    "    \"\"\"Extract text from an image using Tesseract OCR.\"\"\"\n",
    "    custom_config = r'--oem 3 --psm 6'  # OCR Engine Mode (OEM) & Page Segmentation Mode (PSM)\n",
    "    text = pytesseract.image_to_string(image, config=custom_config)\n",
    "    return text\n",
    "\n",
    "def extract_key_information(text):\n",
    "    \"\"\"Extract key aviation details using regex.\"\"\"\n",
    "    data = {}\n",
    "\n",
    "    # Extract ICAO/IATA Airport Code\n",
    "    match = re.search(r'\\b([A-Z]{4})\\b', text)\n",
    "    data[\"Airport Code\"] = match.group(1) if match else \"Unknown\"\n",
    "\n",
    "    # Extract Approach Type (e.g., ILS, RNAV, VOR)\n",
    "    match = re.search(r'(ILS|RNAV|VOR|NDB)\\s+(?:RWY\\s*\\d+)', text, re.IGNORECASE)\n",
    "    data[\"Approach Type\"] = match.group(1) if match else \"Unknown\"\n",
    "\n",
    "    # Extract Runway Number\n",
    "    match = re.search(r'RWY\\s*(\\d{2}[LRC]?)', text, re.IGNORECASE)\n",
    "    data[\"Runway\"] = match.group(1) if match else \"Unknown\"\n",
    "\n",
    "    # Extract ILS Frequency\n",
    "    match = re.search(r'ILS\\s+([\\d.]+)\\s+MHz', text, re.IGNORECASE)\n",
    "    data[\"ILS Frequency\"] = match.group(1) if match else \"Unknown\"\n",
    "\n",
    "    # Extract Minimum Descent Altitude (MDA) or Decision Altitude (DA)\n",
    "    match = re.search(r'(DA|MDA)\\s*(\\d+)', text, re.IGNORECASE)\n",
    "    data[\"Minimum Descent Altitude\"] = match.group(2) if match else \"Unknown\"\n",
    "\n",
    "    return data\n",
    "\n",
    "def main(image_path):\n",
    "    \"\"\"Complete OCR Pipeline\"\"\"\n",
    "    print(\"[INFO] Preprocessing Image...\")\n",
    "    processed_image = preprocess_image(image_path)\n",
    "\n",
    "    print(\"[INFO] Extracting Text...\")\n",
    "    extracted_text = extract_text(processed_image)\n",
    "\n",
    "    print(\"[INFO] Extracting Key Information...\")\n",
    "    key_data = extract_key_information(extracted_text)\n",
    "\n",
    "    print(\"[INFO] Extraction Complete!\")\n",
    "    print(json.dumps(key_data, indent=4))\n",
    "\n",
    "    return key_data\n",
    "\n",
    "# Run the pipeline with an approach chart image\n",
    "image_path = \"/Users/seaqueue/Documents/coop/my startup/pilot_asistant/pamodel/pudong.png\" \n",
    "main(image_path)"
   ]
  },
  {
   "cell_type": "code",
   "execution_count": null,
   "metadata": {},
   "outputs": [],
   "source": []
  },
  {
   "cell_type": "code",
   "execution_count": null,
   "metadata": {},
   "outputs": [],
   "source": []
  }
 ],
 "metadata": {
  "kernelspec": {
   "display_name": "pilot_assistant",
   "language": "python",
   "name": "python3"
  },
  "language_info": {
   "codemirror_mode": {
    "name": "ipython",
    "version": 3
   },
   "file_extension": ".py",
   "mimetype": "text/x-python",
   "name": "python",
   "nbconvert_exporter": "python",
   "pygments_lexer": "ipython3",
   "version": "3.13.2"
  }
 },
 "nbformat": 4,
 "nbformat_minor": 2
}
